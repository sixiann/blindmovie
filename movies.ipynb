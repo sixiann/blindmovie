{
 "cells": [
  {
   "cell_type": "markdown",
   "id": "06fdb9ac",
   "metadata": {},
   "source": [
    "# Step 1: Get movie data"
   ]
  },
  {
   "cell_type": "code",
   "execution_count": 2,
   "id": "fee095bd",
   "metadata": {},
   "outputs": [],
   "source": [
    "import requests\n",
    "import json\n",
    "from collections import defaultdict\n",
    "import random\n",
    "import openai\n",
    "\n",
    "\n",
    "headers = {\n",
    "    \"accept\": \"application/json\",\n",
    "    \"Authorization\": \"Bearer \"\n",
    "}\n",
    "\n",
    "openai.api_key = \"\""
   ]
  },
  {
   "cell_type": "code",
   "execution_count": 45,
   "id": "8f5d3efc",
   "metadata": {},
   "outputs": [],
   "source": [
    "def get_movies(n):\n",
    "    \"\"\"\n",
    "    return a list of n movie_ids\n",
    "    \"\"\"\n",
    "    #randomize between popular and top rated \n",
    "    option = random.randint(1,2)\n",
    "    \n",
    "    if option == 1: #top rated\n",
    "        page = random.randint(1, 447)\n",
    "        url = \"https://api.themoviedb.org/3/movie/top_rated?language=en-US&page=\"+str(page)\n",
    "    else: #popular\n",
    "        page = random.randint(1, 500)\n",
    "        url = \"https://api.themoviedb.org/3/movie/popular?language=en-US&page=\"+str(page)\n",
    "        \n",
    "    response = requests.get(url, headers=headers)\n",
    "    response_data = json.loads(response.text)\n",
    "    \n",
    "    random_movies = random.sample(response_data[\"results\"],n )    \n",
    "    \n",
    "    movie_ids = []\n",
    "    for movie in random_movies:\n",
    "        movie_ids.append(str(movie['id']))\n",
    "    \n",
    "    return movie_ids"
   ]
  },
  {
   "cell_type": "code",
   "execution_count": 157,
   "id": "fa1d5add",
   "metadata": {},
   "outputs": [],
   "source": [
    "def generate_description(movie_id, choice):\n",
    "    \n",
    "    #generic description based on genre, overview, reviews, tagline \n",
    "    if choice in [1,2]:\n",
    "        text = \"\"\n",
    "        #get reviews\n",
    "        url = \"https://api.themoviedb.org/3/movie/\" + movie_id + \"/reviews?language=en-US&page=1\"\n",
    "        reviews = requests.get(url, headers=headers)\n",
    "        review_data = json.loads(reviews.text)\n",
    "        if review_data['results']: \n",
    "            for i in range(len(review_data['results'])):\n",
    "                text += review_data['results'][i]['content']\n",
    "\n",
    "        #get overview\n",
    "        url = \"https://api.themoviedb.org/3/movie/\"+ movie_id+ \"?language=en-US\"\n",
    "        overall = requests.get(url, headers=headers)\n",
    "        overall_data = json.loads(overall.text)\n",
    "        for genre in overall_data['genres']:\n",
    "            text += genre['name']\n",
    "        text += overall_data['tagline']\n",
    "        text += overall_data['overview']\n",
    "        if choice == 1:\n",
    "            prompt = f\"generate a 'blind date with a book' description for this movie:\\\n",
    "                    \\n\\n{text}\\n\\n keep the description to maximum 15 words. Do NOT mention the movie's title.\"\n",
    "\n",
    "            response = openai.Completion.create(\n",
    "                engine=\"text-davinci-003\",\n",
    "                prompt=prompt,\n",
    "                max_tokens=256\n",
    "            )[\"choices\"][0][\"text\"]\n",
    "        else:\n",
    "            url = \"https://api.themoviedb.org/3/movie/\"+ movie_id + \"/credits?language=en-US\"\n",
    "\n",
    "            credits_response = requests.get(url, headers = headers)\n",
    "            credits_data = json.loads(credits_response.text)\n",
    "            actors = credits_data['cast'][0]['name'] + \" and \" + credits_data['cast'][1]['name'] \n",
    "            prompt = f\"generate a very short description for this movie:\\\n",
    "                    \\n\\n{text}\\n\\n Do NOT mention the movie's title. Make sure to mention BOTH {actors} with their full names.\\\n",
    "                    Keep the description to maximum 15 words. \"\n",
    "\n",
    "            response = openai.Completion.create(\n",
    "                engine = \"text-davinci-003\",\n",
    "                prompt = prompt,\n",
    "                max_tokens=256\n",
    "            )[\"choices\"][0][\"text\"]\n",
    "    \n",
    "    \n",
    "    #description based on movie recommendation \n",
    "    elif choice == 3:\n",
    "        url = \"https://api.themoviedb.org/3/movie/\"+ movie_id + \"/recommendations?language=en-US&page=1\"\n",
    "        recommend_response = requests.get(url, headers=headers)\n",
    "        recommend_data = json.loads(recommend_response.text)\n",
    "        if len(recommend_data['results']) > 0:\n",
    "            recommend_movie = recommend_data['results'][0]['title']\n",
    "            year = \"(\" + recommend_data['results'][0]['release_date'][:4] + \")\"\n",
    "            response = f\"If you like {recommend_movie} {year}, you'll like this movie\"\n",
    "        else:\n",
    "            url = \"https://api.themoviedb.org/3/movie/\"+ movie_id + \"/similar?language=en-US&page=1\"\n",
    "            recommend_response = requests.get(url, headers=headers)\n",
    "            recommend_data = json.loads(recommend_response.text)\n",
    "            if len(recommend_data['results']) > 0:\n",
    "                recommend_movie = recommend_data['results'][0]['title']\n",
    "                response = f\"If you like {recommend_movie}, you'll like this movie\"\n",
    "            \n",
    "            else:\n",
    "                response = generate_description(movie_id, choice = 1)\n",
    "        \n",
    "        \n",
    "    #description based on movie keywords \n",
    "    elif choice == 4:\n",
    "        url = \"https://api.themoviedb.org/3/movie/\"+ movie_id + \"/keywords\"\n",
    "        keywords_response = requests.get(url, headers = headers)\n",
    "        keywords_data = json.loads(keywords_response.text)\n",
    "        keywords_response = random.sample(keywords_data['keywords'], min(4, len(keywords_data['keywords'])))\n",
    "        keywords_list = []\n",
    "        response = \"\"\n",
    "        \n",
    "        for item in keywords_response:\n",
    "            response += item['name'] + \", \"\n",
    "            \n",
    "        if len(response) == 0:\n",
    "            response = generate_description(movie_id, choice=1)\n",
    "        \n",
    "    response = response.replace('\\n','')\n",
    "\n",
    "    return response"
   ]
  },
  {
   "cell_type": "code",
   "execution_count": 151,
   "id": "3dc13115",
   "metadata": {},
   "outputs": [],
   "source": [
    "def get_link(movie_id):\n",
    "    url = \"https://api.themoviedb.org/3/movie/\"+ movie_id + \"/watch/providers\"\n",
    "    response = requests.get(url, headers=headers)\n",
    "    response_data = json.loads(response.text)\n",
    "    if \"US\" in response_data['results']:\n",
    "        link = response_data['results']['US']['link']\n",
    "    else:\n",
    "        random_country_code = random.choice(list(response_data['results'].keys()))\n",
    "        link = response_data['results'][random_country_code]['link']\n",
    "    \n",
    "    return link"
   ]
  },
  {
   "cell_type": "code",
   "execution_count": 158,
   "id": "eba31bb0",
   "metadata": {},
   "outputs": [],
   "source": [
    "def get_random_descriptions():\n",
    "    movie_ids = get_movies(4)\n",
    "    \n",
    "    choices = [1, 2, 3, 4]\n",
    "    random_choices = random.sample(choices, len(choices))\n",
    "    \n",
    "    blind_descriptions = []\n",
    "    links = []\n",
    "    for movie_id, choice in zip(movie_ids, random_choices):\n",
    "        blind_descriptions.append(generate_description(movie_id, choice))\n",
    "        links.append(get_link(movie_id))\n",
    "        \n",
    "    return blind_descriptions, links"
   ]
  },
  {
   "cell_type": "code",
   "execution_count": 160,
   "id": "9e99d1cd",
   "metadata": {},
   "outputs": [
    {
     "data": {
      "text/plain": [
       "(['prophecy, apocalypse, sacrifice, biblical plagues, ',\n",
       "  \"If you like Mama (2013), you'll like this movie\",\n",
       "  'Love blooms on a college campus.',\n",
       "  'Parallel universes unravel mystery for Mark Hapka and Jessica Rothe.'],\n",
       " ['https://www.themoviedb.org/movie/11082-the-seventh-sign/watch?locale=US',\n",
       "  'https://www.themoviedb.org/movie/133805-carrie/watch?locale=US',\n",
       "  'https://www.themoviedb.org/movie/289727-the-rewrite/watch?locale=US',\n",
       "  'https://www.themoviedb.org/movie/328595-parallels/watch?locale=US'])"
      ]
     },
     "execution_count": 160,
     "metadata": {},
     "output_type": "execute_result"
    }
   ],
   "source": [
    "get_random_descriptions()"
   ]
  },
  {
   "cell_type": "code",
   "execution_count": 154,
   "id": "3ffc32a6",
   "metadata": {},
   "outputs": [
    {
     "name": "stdout",
     "output_type": "stream",
     "text": [
      "(['Asa Butterfield and Jack Scanlon uncover a heartbreaking history in a divided land.', \"If you like Heb Medelij Jet!, you'll like this movie\", 'Change fate with fantasy and adventure.', 'stargazing, parent-in-law child-in-law relationship, 1950s, family, '], ['https://www.themoviedb.org/movie/14574-the-boy-in-the-striped-pyjamas/watch?locale=US', 'https://www.themoviedb.org/movie/297-meet-joe-black/watch?locale=US', 'https://www.themoviedb.org/movie/62177-brave/watch?locale=US', 'https://www.themoviedb.org/movie/747188-asteroid-city/watch?locale=US'])\n",
      "(['A premonition helps save lives and Death seeks revenge in this horror-mystery starring Bobby Campo and Shantel VanSanten.', 'space shuttle, mass murder, cable car, space marine, ', 'Tough cop takes on vigilante justice-seekers in SF.', \"If you like I Want to Eat Your Pancreas, you'll like this movie\"], ['https://www.themoviedb.org/movie/19912-the-final-destination/watch?locale=US', 'https://www.themoviedb.org/movie/698-moonraker/watch?locale=US', 'https://www.themoviedb.org/movie/10648-magnum-force/watch?locale=US', 'https://www.themoviedb.org/movie/667520/watch?locale=US'])\n",
      "(['Matt Battaglia and Andrew Jackson must fight mercenaries unleasing Universal Soldiers of no memory, emotion, or mercy.', 'personal assistant, suicide, mountain, aging, ', \"If you like As Though Nothing Could Fall, you'll like this movie\", 'Explorative summer adventure with a mystery hidden inside.'], ['https://www.themoviedb.org/movie/10704-universal-soldier-ii-brothers-in-arms/watch?locale=US', 'https://www.themoviedb.org/movie/246860-clouds-of-sils-maria/watch?locale=US', 'https://www.themoviedb.org/movie/371638-the-disaster-artist/watch?locale=US', 'https://www.themoviedb.org/movie/877957/watch?locale=US'])\n",
      "(['Ex-Federale Machete (Danny Trejo) battles madman revolution and eccentric billionaire Mel Gibson for the future of the planet.', \"If you like Val, you'll like this movie\", 'shrinking, san francisco, california, experiment, test pilot, ', 'Outlaws elude small-town authority in orange Dodge Charger.'], ['https://www.themoviedb.org/movie/106747-machete-kills/watch?locale=US', 'https://www.themoviedb.org/movie/505706-der-goldene-handschuh/watch?locale=US', 'https://www.themoviedb.org/movie/2614-innerspace/watch?locale=US', 'https://www.themoviedb.org/movie/6519-the-dukes-of-hazzard/watch?locale=US'])\n",
      "(['Adèle Exarchopoulos and Léa Seydoux star in a powerful story exploring love, desire, and self-discovery.', \"If you like Police Story 3: Super Cop, you'll like this movie\", 'Dangerous love, a web of deceit.', 'based on comic, based on video game, superhero, '], ['https://www.themoviedb.org/movie/152584-la-vie-d-adele-chapitres-1-et-2/watch?locale=US', 'https://www.themoviedb.org/movie/11636/watch?locale=US', 'https://www.themoviedb.org/movie/928270-heatwave/watch?locale=US', 'https://www.themoviedb.org/movie/831405-injustice/watch?locale=US'])\n"
     ]
    }
   ],
   "source": [
    "for i in range(5):\n",
    "    print(get_random_descriptions())"
   ]
  },
  {
   "cell_type": "code",
   "execution_count": null,
   "id": "eac96265",
   "metadata": {},
   "outputs": [],
   "source": []
  },
  {
   "cell_type": "code",
   "execution_count": null,
   "id": "cac03990",
   "metadata": {},
   "outputs": [],
   "source": []
  },
  {
   "cell_type": "code",
   "execution_count": null,
   "id": "3e9956b6",
   "metadata": {},
   "outputs": [],
   "source": []
  },
  {
   "cell_type": "code",
   "execution_count": 283,
   "id": "1167102c",
   "metadata": {},
   "outputs": [],
   "source": [
    "def get_movies(n):\n",
    "    #get random page of results \n",
    "    page = random.randint(1, 500)\n",
    "    url = \"https://api.themoviedb.org/3/movie/popular?language=en-US&page=\"+str(page)\n",
    "    response = requests.get(url, headers=headers)\n",
    "    response_data = json.loads(response.text)\n",
    "    random_movies = random.sample(response_data[\"results\"], n)\n",
    "    movie_text = defaultdict(str)\n",
    "\n",
    "    for movie in random_movies:\n",
    "        print(movie['title'])\n",
    "        movie_text[str(movie['id'])] = movie['overview']\n",
    "\n",
    "    for key in movie_text.keys():\n",
    "        url = \"https://api.themoviedb.org/3/movie/\" + key + \"/reviews?language=en-US&page=1\"\n",
    "        reviews = requests.get(url, headers=headers)\n",
    "        review_data = json.loads(reviews.text)\n",
    "\n",
    "        if review_data['results']: \n",
    "            review_text = review_data['results'][0]['content']\n",
    "            movie_text[key] += review_text\n",
    "    \n",
    "    return movie_text"
   ]
  },
  {
   "cell_type": "code",
   "execution_count": 148,
   "id": "88aa5286",
   "metadata": {},
   "outputs": [],
   "source": [
    "#get random page of results \n",
    "page = random.randint(1, 500)"
   ]
  },
  {
   "cell_type": "code",
   "execution_count": 280,
   "id": "fc309cd6",
   "metadata": {},
   "outputs": [],
   "source": [
    "url = \"https://api.themoviedb.org/3/movie/popular?language=en-US&page=\"+str(page)\n",
    "\n",
    "response = requests.get(url, headers=headers)\n",
    "response_data = json.loads(response.text)"
   ]
  },
  {
   "cell_type": "code",
   "execution_count": 151,
   "id": "d9ebd58c",
   "metadata": {},
   "outputs": [],
   "source": [
    "random_movies = random.sample(response_data[\"results\"], 3)"
   ]
  },
  {
   "cell_type": "code",
   "execution_count": 152,
   "id": "e4e959ce",
   "metadata": {},
   "outputs": [],
   "source": [
    "movie_text = defaultdict(str)\n",
    "\n",
    "for movie in random_movies:\n",
    "    movie_text[str(movie['id'])] = movie['overview']\n",
    "    \n",
    "for key in movie_text.keys():\n",
    "    url = \"https://api.themoviedb.org/3/movie/\" + key + \"/reviews?language=en-US&page=1\"\n",
    "    reviews = requests.get(url, headers=headers)\n",
    "    review_data = json.loads(reviews.text)\n",
    "    \n",
    "    if review_data['results']: \n",
    "        review_text = review_data['results'][0]['content']\n",
    "        movie_text[key] += review_text\n",
    "    "
   ]
  },
  {
   "cell_type": "markdown",
   "id": "8d0977ab",
   "metadata": {},
   "source": [
    "# Step 2: Ask GPT"
   ]
  },
  {
   "cell_type": "code",
   "execution_count": 273,
   "id": "0eefb438",
   "metadata": {},
   "outputs": [],
   "source": [
    "def generate_description(movie_id, text, choice = 1):\n",
    "    \n",
    "    #generic genre based description + reviews\n",
    "    if choice == 1:\n",
    "        prompt = f\"generate a 'blind date with a book' description for this movie:\\\n",
    "                \\n\\n{text}\\n\\n keep the description to maximum 10 words. Do NOT mention the movie's title.\"\n",
    "\n",
    "        response = openai.Completion.create(\n",
    "            engine=\"text-davinci-003\",\n",
    "            prompt=prompt,\n",
    "            max_tokens=256\n",
    "        )[\"choices\"][0][\"text\"]\n",
    "    \n",
    "    \n",
    "    #description based on movie recommendation \n",
    "    elif choice == 2:\n",
    "        url = \"https://api.themoviedb.org/3/movie/\"+ movie_id + \"/recommendations?language=en-US&page=1\"\n",
    "        recommend_response = requests.get(url, headers=headers)\n",
    "        recommend_data = json.loads(recommend_response.text)\n",
    "        if len(recommend_data['results']) > 0:\n",
    "            recommend_movie = recommend_data['results'][0]['title']\n",
    "            response = f\"If you like {recommend_movie}, you'll like this movie\"\n",
    "        else:\n",
    "            choice == 1\n",
    "        \n",
    "        \n",
    "    #description based on movie keywords \n",
    "    elif choice == 3:\n",
    "        url = \"https://api.themoviedb.org/3/movie/\"+ movie_id + \"/keywords\"\n",
    "        keywords_response = requests.get(url, headers = headers)\n",
    "        keywords_data = json.loads(keywords_response.text)\n",
    "        keywords_response = random.sample(keywords_data['keywords'], min(4, len(keywords_data['keywords'])))\n",
    "        keywords_list = []\n",
    "        response = []\n",
    "        \n",
    "        for item in keywords_response:\n",
    "            response.append(item['name'])\n",
    "            \n",
    "        if len(response) == 0:\n",
    "            choice = 1\n",
    "            \n",
    "    \n",
    "    #description based on actor\n",
    "    elif choice == 4:\n",
    "        \n",
    "        url = \"https://api.themoviedb.org/3/movie/\"+ movie_id + \"/credits?language=en-US\"\n",
    "        \n",
    "        credits_response = requests.get(url, headers = headers)\n",
    "        credits_data = json.loads(credits_response.text)\n",
    "        actors = credits_data['cast'][0]['name'] + \" and \" + credits_data['cast'][1]['name'] \n",
    "        prompt = f\"generate a very short description for this movie:\\\n",
    "                \\n\\n{text}\\n\\n Do NOT mention the movie's title. Make sure to mention BOTH {actors}.\\\n",
    "                Keep the description to maximum 10 words. \"\n",
    "        \n",
    "        response = openai.Completion.create(\n",
    "            engine = \"text-davinci-003\",\n",
    "            prompt = prompt,\n",
    "            max_tokens=256\n",
    "        )[\"choices\"][0][\"text\"]\n",
    "        \n",
    "    return response"
   ]
  },
  {
   "cell_type": "code",
   "execution_count": 274,
   "id": "2bd5b186",
   "metadata": {},
   "outputs": [
    {
     "data": {
      "text/plain": [
       "['\\n\\nTeen crush threatens world domination.',\n",
       " \"If you like Superman/Batman: Apocalypse, you'll like this movie\",\n",
       " ['london, england', 'based on novel or book', 'dover', 'orphan']]"
      ]
     },
     "execution_count": 274,
     "metadata": {},
     "output_type": "execute_result"
    }
   ],
   "source": [
    "blind_descriptions = []\n",
    "for i, (key, val) in enumerate(movie_text.items()):\n",
    "    blind_descriptions.append(generate_description(key, val, choice = i+1))\n",
    "    \n",
    "blind_descriptions"
   ]
  },
  {
   "cell_type": "code",
   "execution_count": null,
   "id": "36e8bf2c",
   "metadata": {},
   "outputs": [],
   "source": []
  },
  {
   "cell_type": "code",
   "execution_count": null,
   "id": "d950d7af",
   "metadata": {},
   "outputs": [],
   "source": []
  },
  {
   "cell_type": "code",
   "execution_count": null,
   "id": "2df04060",
   "metadata": {},
   "outputs": [],
   "source": []
  },
  {
   "cell_type": "code",
   "execution_count": 278,
   "id": "3c038da7",
   "metadata": {},
   "outputs": [],
   "source": [
    "def get_four_random():\n",
    "    movie_text = get_movies(4)\n",
    "    \n",
    "    blind_descriptions = []\n",
    "    for i, (key, val) in enumerate(movie_text.items()):\n",
    "        blind_descriptions.append(generate_description(key, val, choice = i+1))\n",
    "        \n",
    "    return blind_descriptions"
   ]
  },
  {
   "cell_type": "code",
   "execution_count": 285,
   "id": "7ff18093",
   "metadata": {},
   "outputs": [
    {
     "name": "stdout",
     "output_type": "stream",
     "text": [
      "Undryable Younger Cousin\n",
      "Dragnet\n",
      "My Babysitter's a Vampire\n",
      "The Golden Cockerel\n",
      "0 ['\\n\\n\"Sibling love, secrets, and betrayal.\"', \"If you like The Man with One Red Shoe, you'll like this movie\", ['vampire', 'babysitter', 'fan culture'], '\\n\\nLucha Villa and Ignacio Tarso battle for love.']\n",
      "Leatherface: The Texas Chainsaw Massacre III\n",
      "Dawn of the Dead\n",
      "Training Day\n",
      "Virgin Territory\n",
      "1 ['\\n\\nRoad trip horror: Blood and mayhem!', \"If you like Day of the Dead, you'll like this movie\", ['california', 'drug trafficking', 'los angeles, california', 'rookie cop'], '\\n\\nRomantic swashbuckling with Hayden Christensen and Mischa Barton.']\n",
      "Into the Wild\n",
      "Unhappily Ever After\n",
      "Warm Bodies\n",
      "American Ultra\n",
      "2 ['\\n\\nWild adventures in Alaskan wilderness.', \"If you like Attack on Titan, you'll like this movie\", ['dystopia', 'based on young adult novel', 'based on novel or book', 'interspecies romance'], '\\n\\nJesse and Kristen star in an action-packed comedy disaster.']\n",
      "Invictus\n",
      "All About Anna\n",
      "The Courier\n",
      "American Horror House\n",
      "3 ['\\r\\n\\nAn inspiring tale of forgiveness and unity.', \"If you like Personals: College Girl Seeking..., you'll like this movie\", ['russian spy', 'british spy', 'undercover', 'mi6'], '\\n\\nHaunted sorority with Torresani and Fairchild on deadly rampage.']\n",
      "Desperate Measures\n",
      "Bad Trip\n",
      "Cry Macho\n",
      "Spontaneous\n",
      "4 [\"\\n\\nA father's desperate race against time.\", \"If you like Guest House, you'll like this movie\", ['1970s', 'animal whisperer', 'neo-western', 'mexico'], '\\n\\nMara & Dylan (Langford & Plummer) survive exploding teens.']\n"
     ]
    }
   ],
   "source": [
    "for i in range(5):\n",
    "    print(i, get_four_random())"
   ]
  },
  {
   "cell_type": "markdown",
   "id": "d10833a7",
   "metadata": {},
   "source": [
    "# Letterboxd API"
   ]
  },
  {
   "cell_type": "code",
   "execution_count": null,
   "id": "7f900dfc",
   "metadata": {},
   "outputs": [],
   "source": []
  }
 ],
 "metadata": {
  "kernelspec": {
   "display_name": "Python 3 (ipykernel)",
   "language": "python",
   "name": "python3"
  },
  "language_info": {
   "codemirror_mode": {
    "name": "ipython",
    "version": 3
   },
   "file_extension": ".py",
   "mimetype": "text/x-python",
   "name": "python",
   "nbconvert_exporter": "python",
   "pygments_lexer": "ipython3",
   "version": "3.10.10"
  }
 },
 "nbformat": 4,
 "nbformat_minor": 5
}
